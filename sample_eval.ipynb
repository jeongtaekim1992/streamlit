{
 "cells": [
  {
   "cell_type": "code",
   "execution_count": 8,
   "metadata": {},
   "outputs": [
    {
     "name": "stdout",
     "output_type": "stream",
     "text": [
      "                     원문                  전사 결과  WER  CER\n",
      "0         오늘 날씨가 참 좋네요.            오늘 날씨가 좋네요.  25%  15%\n",
      "1      내일 오전에 회의가 있습니다.        내일 오전 희의가 있습니다.  50%  12%\n",
      "2  새로운 프로젝트를 시작하려고 합니다.  새로운 프로젝트를 시작 하려고 합니다.  50%   5%\n",
      "3     이곳은 정말 아름다운 곳이에요.      이곳 정말 아름다운 곳 이에요.  75%  12%\n"
     ]
    }
   ],
   "source": [
    "import pandas as pd\n",
    "import editdistance\n",
    "\n",
    "# 데이터\n",
    "corrected_data = [\n",
    "    [\"오늘 날씨가 참 좋네요.\", \"오늘 날씨가 좋네요.\"],\n",
    "    [\"내일 오전에 회의가 있습니다.\", \"내일 오전 희의가 있습니다.\"],\n",
    "    [\"새로운 프로젝트를 시작하려고 합니다.\", \"새로운 프로젝트를 시작 하려고 합니다.\"],\n",
    "    [\"이곳은 정말 아름다운 곳이에요.\", \"이곳 정말 아름다운 곳 이에요.\"],\n",
    "]\n",
    "\n",
    "# 데이터프레임 생성\n",
    "df_corrected = pd.DataFrame(corrected_data, columns=[\"원문\", \"전사 결과\"])\n",
    "\n",
    "# WER 계산 함수\n",
    "def calculate_wer(reference, hypothesis):\n",
    "    ref_words = reference.split()\n",
    "    hyp_words = hypothesis.split()\n",
    "    return editdistance.eval(ref_words, hyp_words) / len(ref_words)\n",
    "\n",
    "# CER 계산 함수\n",
    "def calculate_cer(reference, hypothesis):\n",
    "    return editdistance.eval(reference, hypothesis) / len(reference)\n",
    "\n",
    "# WER과 CER 계산 후 정수와 '%' 기호 추가\n",
    "df_corrected[\"WER\"] = df_corrected.apply(lambda row: f\"{round(calculate_wer(row['원문'], row['전사 결과']) * 100)}%\", axis=1)\n",
    "df_corrected[\"CER\"] = df_corrected.apply(lambda row: f\"{round(calculate_cer(row['원문'], row['전사 결과']) * 100)}%\", axis=1)\n",
    "\n",
    "# 결과 출력\n",
    "print(df_corrected)"
   ]
  },
  {
   "cell_type": "code",
   "execution_count": 9,
   "metadata": {},
   "outputs": [],
   "source": [
    "df_corrected.to_csv('sample_eval.csv', index=False, encoding=\"utf-8-sig\")"
   ]
  }
 ],
 "metadata": {
  "kernelspec": {
   "display_name": "env_stream",
   "language": "python",
   "name": "python3"
  },
  "language_info": {
   "codemirror_mode": {
    "name": "ipython",
    "version": 3
   },
   "file_extension": ".py",
   "mimetype": "text/x-python",
   "name": "python",
   "nbconvert_exporter": "python",
   "pygments_lexer": "ipython3",
   "version": "3.9.21"
  }
 },
 "nbformat": 4,
 "nbformat_minor": 2
}
